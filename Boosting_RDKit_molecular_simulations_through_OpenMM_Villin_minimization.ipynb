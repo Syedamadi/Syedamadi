{
  "nbformat": 4,
  "nbformat_minor": 0,
  "metadata": {
    "colab": {
      "private_outputs": true,
      "provenance": [],
      "authorship_tag": "ABX9TyNe7oo6vKujViojuuMBgxLF",
      "include_colab_link": true
    },
    "kernelspec": {
      "name": "python3",
      "display_name": "Python 3"
    },
    "language_info": {
      "name": "python"
    }
  },
  "cells": [
    {
      "cell_type": "markdown",
      "metadata": {
        "id": "view-in-github",
        "colab_type": "text"
      },
      "source": [
        "<a href=\"https://colab.research.google.com/github/Syedamadi/Syedamadi/blob/main/Boosting_RDKit_molecular_simulations_through_OpenMM_Villin_minimization.ipynb\" target=\"_parent\"><img src=\"https://colab.research.google.com/assets/colab-badge.svg\" alt=\"Open In Colab\"/></a>"
      ]
    },
    {
      "cell_type": "code",
      "source": [
        "from IPython import get_ipython\n",
        "from IPython.display import display\n"
      ],
      "metadata": {
        "id": "7ImZcVCIKxYz"
      },
      "execution_count": null,
      "outputs": []
    },
    {
      "cell_type": "code",
      "execution_count": null,
      "metadata": {
        "id": "ZOJPN6ZLIJlK"
      },
      "outputs": [],
      "source": [
        "!pip install -q condacolab\n",
        "import condacolab\n",
        "condacolab.install()\n",
        "\n",
        "!conda install -c conda-forge rdkit -y"
      ]
    },
    {
      "cell_type": "code",
      "source": [
        "import rdkit\n",
        "print(rdkit.__version__)"
      ],
      "metadata": {
        "id": "MOqTZ50VILQn"
      },
      "execution_count": null,
      "outputs": []
    },
    {
      "cell_type": "code",
      "source": [
        "!pip install py3Dmol"
      ],
      "metadata": {
        "id": "lx5lmf32KdQD"
      },
      "execution_count": null,
      "outputs": []
    },
    {
      "cell_type": "code",
      "source": [
        "!conda install -c conda-forge openmm -y"
      ],
      "metadata": {
        "id": "QPThu9CoLUmW"
      },
      "execution_count": null,
      "outputs": []
    },
    {
      "cell_type": "code",
      "source": [
        "import sys\n",
        "import math\n",
        "import timeit\n",
        "from rdkit import Chem\n",
        "from rdkit.Chem import AllChem\n",
        "from rdkit.Chem import Draw\n",
        "from rdkit.Chem.Draw import IPythonConsole\n",
        "import py3Dmol\n",
        "from simtk.openmm import openmm"
      ],
      "metadata": {
        "id": "QF-kAelnKLef"
      },
      "execution_count": null,
      "outputs": []
    },
    {
      "cell_type": "code",
      "source": [
        "from google.colab import files\n",
        "uploaded = files.upload()"
      ],
      "metadata": {
        "id": "MY-7ka5jLmZX"
      },
      "execution_count": null,
      "outputs": []
    },
    {
      "cell_type": "code",
      "source": [
        "villin = open('/content/2f4k.pdb', 'r').read()\n",
        "p = py3Dmol.view(width = 400,height = 400)\n",
        "p.addModel(villin, 'pdb')\n",
        "p.setStyle({'cartoon': {'color':'spectrum'}})\n",
        "p.zoomTo()\n",
        "p.show()"
      ],
      "metadata": {
        "id": "yPMC4uADMF4d"
      },
      "execution_count": null,
      "outputs": []
    },
    {
      "cell_type": "code",
      "source": [
        "# <script src=\"https://gist.github.com/ptosco/7feeda611f6bfd1095fecc2b07a73b87.js\"></script>"
      ],
      "metadata": {
        "id": "iwQkr94mODK2"
      },
      "execution_count": null,
      "outputs": []
    }
  ]
}